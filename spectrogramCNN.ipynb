{
 "cells": [
  {
   "cell_type": "code",
   "execution_count": null,
   "id": "initial_id",
   "metadata": {
    "collapsed": true
   },
   "outputs": [],
   "source": [
    "import os\n",
    "import numpy as np\n",
    "import pandas as pd\n",
    "import matplotlib.pyplot as plt\n",
    "from sklearn.model_selection import train_test_split\n",
    "from sklearn.metrics import accuracy_score, precision_score, recall_score, f1_score\n",
    "\n",
    "import torch\n",
    "import torch.nn as nn\n",
    "import torch.optim as optim\n",
    "from torch.utils.data import Dataset, DataLoader"
   ]
  },
  {
   "metadata": {},
   "cell_type": "code",
   "outputs": [],
   "execution_count": null,
   "source": [
    "# data paths\n",
    "mixture_directory = \"data/mixture\"\n",
    "vocals_directory = \"data/vocals\""
   ],
   "id": "452a325d3e98dbb7"
  },
  {
   "metadata": {},
   "cell_type": "code",
   "outputs": [],
   "execution_count": null,
   "source": [
    "# parameters to play around with to better optimize training\n",
    "patch_size = 128\n",
    "stride = 64\n",
    "batch_size = 16\n",
    "epochs = 20\n",
    "model_save_path = \"vocal_isolator.pth\"\n",
    "device = torch.device(\"cuda\" if torch.cuda.is_available() else \"cpu\")  # will utilize GPU if possible to train/test"
   ],
   "id": "4313de376c9ccb55"
  },
  {
   "metadata": {},
   "cell_type": "code",
   "outputs": [],
   "execution_count": null,
   "source": [
    "class SpectrogramDataset(Dataset):\n",
    "    def __init__(self):\n",
    "    \n",
    "    def __len__(self):\n",
    "        \n",
    "    def __getitem__(self, index):"
   ],
   "id": "af2e915cab35f574"
  },
  {
   "metadata": {},
   "cell_type": "code",
   "outputs": [],
   "execution_count": null,
   "source": [
    "class UNet(nn.Module):  #TODO: Should we be using a CNN or a UNET?\n",
    "    def __init__(self):\n",
    "        \n",
    "    def forward(self, x):"
   ],
   "id": "c1aa36edb170aa76"
  },
  {
   "metadata": {},
   "cell_type": "code",
   "outputs": [],
   "execution_count": null,
   "source": [
    "# training function to be called\n",
    "def train(model, dataloader, criterion, optimizer, num_epochs, checkpoint_path=\"checkpoints\"):\n",
    "    os.makedirs(checkpoint_path, exist_ok=True)\n",
    "    model.train()\n",
    "    checkpoint_interval = 5\n",
    "\n",
    "    for epoch in range(1, num_epochs + 1):\n",
    "        running_loss = 0.0\n",
    "        num_batches = 0\n",
    "\n",
    "        for spectrograms, labels in dataloader:\n",
    "            # Move to GPU\n",
    "            spectrograms, labels = spectrograms.to(device), labels.to(device)\n",
    "\n",
    "            # Forward pass\n",
    "            outputs = model(spectrograms)\n",
    "            loss = criterion(outputs, labels)\n",
    "\n",
    "            # Backward pass\n",
    "            optimizer.zero_grad()\n",
    "            loss.backward()\n",
    "            optimizer.step()\n",
    "\n",
    "            running_loss += loss.item()\n",
    "            num_batches += 1\n",
    "\n",
    "        # Calculate average loss\n",
    "        epoch_loss = running_loss / num_batches\n",
    "\n",
    "        print(f\"Epoch {epoch}/{num_epochs} — Average Loss: {epoch_loss:.4f}\")\n",
    "\n",
    "        # Periodic checkpoints\n",
    "        if epoch % checkpoint_interval == 0:\n",
    "            ckpt = {\n",
    "                'epoch': epoch,\n",
    "                'model_state_dict': model.state_dict(),\n",
    "                'optimizer_state_dict': optimizer.state_dict(),\n",
    "                'loss': epoch_loss,\n",
    "            }\n",
    "            torch.save(ckpt, os.path.join(checkpoint_path, f\"sep_epoch_{epoch}.pth\"))\n",
    "\n",
    "    return model"
   ],
   "id": "ef8199a5b692ad69"
  }
 ],
 "metadata": {
  "kernelspec": {
   "display_name": "Python 3",
   "language": "python",
   "name": "python3"
  },
  "language_info": {
   "codemirror_mode": {
    "name": "ipython",
    "version": 2
   },
   "file_extension": ".py",
   "mimetype": "text/x-python",
   "name": "python",
   "nbconvert_exporter": "python",
   "pygments_lexer": "ipython2",
   "version": "2.7.6"
  }
 },
 "nbformat": 4,
 "nbformat_minor": 5
}
