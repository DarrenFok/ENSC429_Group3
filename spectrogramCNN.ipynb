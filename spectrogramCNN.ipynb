{
 "cells": [
  {
   "cell_type": "code",
   "execution_count": null,
   "id": "initial_id",
   "metadata": {
    "collapsed": true
   },
   "outputs": [],
   "source": [
    "import os\n",
    "import numpy as np\n",
    "import pandas as pd\n",
    "import matplotlib.pyplot as plt\n",
    "from sklearn.model_selection import train_test_split\n",
    "from sklearn.metrics import accuracy_score, precision_score, recall_score, f1_score\n",
    "\n",
    "import torch\n",
    "import torch.nn as nn\n",
    "import torch.optim as optim\n",
    "from torch.utils.data import Dataset, DataLoader"
   ]
  },
  {
   "metadata": {},
   "cell_type": "code",
   "outputs": [],
   "execution_count": null,
   "source": [
    "# data paths\n",
    "mixture_directory = \"data/mixture\"\n",
    "vocals_directory = \"data/vocals\""
   ],
   "id": "452a325d3e98dbb7"
  },
  {
   "metadata": {},
   "cell_type": "code",
   "outputs": [],
   "execution_count": null,
   "source": [
    "# parameters to play around with to better optimize training\n",
    "patch_size = 128\n",
    "stride = 64\n",
    "batch_size = 16\n",
    "epochs = 20\n",
    "model_save_path = \"vocal_isolator.pth\"\n",
    "device = torch.device(\"cuda\" if torch.cuda.is_available() else \"cpu\")  # will utilize GPU if possible to train/test"
   ],
   "id": "4313de376c9ccb55"
  },
  {
   "metadata": {},
   "cell_type": "code",
   "outputs": [],
   "execution_count": null,
   "source": [
    "class SpectrogramDataset(Dataset):\n",
    "    def __init__(self, filepaths, sequence_length = 1, label_map={\"instrumental\": 0, \"acapella\": 1, \"full\": 2}):\n",
    "        self.filepaths = filepaths\n",
    "        self.sequence_length = sequence_length\n",
    "\n",
    "        self.label_map = label_map\n",
    "        self.labels = []\n",
    "    \n",
    "    def __len__(self):\n",
    "        return len(self.filepaths) #length of le dataset?BRO THIS IS WH Y IM NOT IN COMPUTER ENGINE\n",
    "        \n",
    "    def __getitem__(self, index):\n",
    "        filepath = self.file_paths[index]\n",
    "        label = self.labels[index]\n",
    "\n",
    "        #Extract from Sheet\n",
    "        Re = pd.read_excel(filepath, sheet_name='Re_X', header=None).values\n",
    "        Im = pd.read_excel(filepath, sheet_name='Im_X', header=None).values\n",
    "        fs = pd.read_excel(filepath, sheet_name='Sampling Rate', header=None).values[0][0]\n",
    "\n",
    "        #Construct Complex Signal\n",
    "        Signal = Re + j*Im\n",
    "\n",
    "        return torch.tensor(Signal), torch.tensor(label), fs\n"
   ],
   "id": "af2e915cab35f574"
  },
  {
   "metadata": {},
   "cell_type": "code",
   "outputs": [],
   "execution_count": null,
   "source": [
    "class UNet(nn.Module):  #TODO: Should we be using a CNN or a UNET?\n",
    "    def __init__(self):\n",
    "        \n",
    "    def forward(self, x):"
   ],
   "id": "c1aa36edb170aa76"
  },
  {
   "metadata": {},
   "cell_type": "code",
   "outputs": [],
   "execution_count": null,
   "source": [
    "# training function to be called\n",
    "def train():"
   ],
   "id": "ef8199a5b692ad69"
  }
 ],
 "metadata": {
  "kernelspec": {
   "display_name": "Python 3",
   "language": "python",
   "name": "python3"
  },
  "language_info": {
   "codemirror_mode": {
    "name": "ipython",
    "version": 2
   },
   "file_extension": ".py",
   "mimetype": "text/x-python",
   "name": "python",
   "nbconvert_exporter": "python",
   "pygments_lexer": "ipython2",
   "version": "2.7.6"
  }
 },
 "nbformat": 4,
 "nbformat_minor": 5
}
